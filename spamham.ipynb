{
 "cells": [
  {
   "cell_type": "markdown",
   "metadata": {},
   "source": [
    "# Unsupervised Machine Learning Final Project\n",
    "Aug2023\n",
    "\n",
    "Data Source: https://www.kaggle.com/datasets/uciml/sms-spam-collection-dataset"
   ]
  },
  {
   "cell_type": "markdown",
   "metadata": {},
   "source": [
    "# Project Goals\n",
    "For this project we'll be looking at text messages and classifying them as spam or legitimate (ham) text messages. The data is labeled, and we'll start with using an unsupervised model and compare it against a supervised model. Stepwise, we'll be doing the following:\n",
    "1. Import the data\n",
    "2. Clean the data\n",
    "3. Explore the data\n",
    "4. Build the unsupervised model\n",
    "5. Explore improvements to the unsupervised model\n",
    "6. Build a supervised model\n",
    "7. Explore improvements to the supervised model\n",
    "8. Compare supervised vs. unsupervised models\n",
    "9. Conclusions"
   ]
  },
  {
   "cell_type": "markdown",
   "metadata": {},
   "source": [
    "# The Data\n",
    "This data contains text messages collected from a various number of sources (also described in more detail on the Kaggle source url):\n",
    "1. 425 spam messages from Grumbletext website\n",
    "2. 3,375 ham messages from NUS SMS Corpus\n",
    "3. 450 ham messages from Caroline Tag's PhD thesis\n",
    "4. 1000 ham messages and 322 spam messages from SMS Spam Corpus v.0.1 Big\n",
    "\n",
    "In total there are 5572 messages with a breakdown of 87% ham and 13% spam. \n",
    "\n",
    "## NOTE\n",
    "The data doesn't use the default utf-8 encoding, we need to use ISO-8859-1 to read the raw data correctly."
   ]
  },
  {
   "cell_type": "code",
   "execution_count": 5,
   "metadata": {},
   "outputs": [],
   "source": [
    "# Import modules\n",
    "import polars as pl\n",
    "import altair as alt\n",
    "from sklearn.feature_extraction.text import TfidfVectorizer\n",
    "from sklearn.decomposition import NMF\n",
    "from nltk.tokenize import word_tokenize"
   ]
  },
  {
   "cell_type": "code",
   "execution_count": 6,
   "metadata": {},
   "outputs": [],
   "source": [
    "# Import the data\n",
    "url = \"https://raw.githubusercontent.com/nsxydis/final-project/main/spam.csv\"\n",
    "df = pl.read_csv(url, encoding = 'ISO-8859-1')"
   ]
  },
  {
   "cell_type": "code",
   "execution_count": 7,
   "metadata": {},
   "outputs": [],
   "source": [
    "# Explore the data\n"
   ]
  },
  {
   "cell_type": "code",
   "execution_count": null,
   "metadata": {},
   "outputs": [],
   "source": [
    "# Make a class for \n",
    "def test(*args):\n",
    "    print(args)\n"
   ]
  },
  {
   "cell_type": "code",
   "execution_count": 11,
   "metadata": {},
   "outputs": [
    {
     "data": {
      "text/plain": [
       "<5572x8672 sparse matrix of type '<class 'numpy.float64'>'\n",
       "\twith 73916 stored elements in Compressed Sparse Row format>"
      ]
     },
     "execution_count": 11,
     "metadata": {},
     "output_type": "execute_result"
    }
   ],
   "source": [
    "# Word Embedding\n",
    "vectorizer = TfidfVectorizer()\n",
    "embed = vectorizer.fit_transform(df['v2'].to_list())\n",
    "embed"
   ]
  },
  {
   "cell_type": "code",
   "execution_count": null,
   "metadata": {},
   "outputs": [],
   "source": []
  }
 ],
 "metadata": {
  "kernelspec": {
   "display_name": "Python 3",
   "language": "python",
   "name": "python3"
  },
  "language_info": {
   "codemirror_mode": {
    "name": "ipython",
    "version": 3
   },
   "file_extension": ".py",
   "mimetype": "text/x-python",
   "name": "python",
   "nbconvert_exporter": "python",
   "pygments_lexer": "ipython3",
   "version": "3.11.4"
  },
  "orig_nbformat": 4
 },
 "nbformat": 4,
 "nbformat_minor": 2
}
